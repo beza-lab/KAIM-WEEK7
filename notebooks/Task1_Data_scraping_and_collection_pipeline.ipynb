{
 "cells": [
  {
   "cell_type": "code",
   "execution_count": 8,
   "metadata": {},
   "outputs": [
    {
     "name": "stdout",
     "output_type": "stream",
     "text": [
      "Signed in successfully as Bezawit G; remember to not break the ToS or you will risk an account ban!\n",
      "Scraping completed and data saved to 'D:\\KAIM\\WEEK 7\\KAIM WEEK7\\telegram_scraped_data.csv'.\n"
     ]
    }
   ],
   "source": [
    "import asyncio\n",
    "from telethon import TelegramClient\n",
    "import pandas as pd\n",
    "import nest_asyncio\n",
    "\n",
    "# Apply the nest_asyncio patch\n",
    "nest_asyncio.apply()\n",
    "\n",
    "# Telegram credentials\n",
    "api_id = '27613793'\n",
    "api_hash = '58f73f500af1aa0f525caff262964fa4'\n",
    "phone_number = '+251911756372'\n",
    "\n",
    "# Create a client with a custom session\n",
    "session = 'my_session4'\n",
    "client = TelegramClient(session, api_id, api_hash)\n",
    "\n",
    "# Define the channels\n",
    "channels = ['CheMed123', 'lobelia4cosmetics']\n",
    "\n",
    "# Function to scrape messages and save to CSV\n",
    "async def scrape_and_save_to_csv(channels):\n",
    "    all_messages = []\n",
    "    for channel_name in channels:\n",
    "        channel = await client.get_entity(channel_name)\n",
    "        async for message in client.iter_messages(channel, limit=100):  # Adjust limit as needed\n",
    "            all_messages.append([channel_name, message.date, message.message])\n",
    "    \n",
    "    # Create a DataFrame and save to CSV\n",
    "    df = pd.DataFrame(all_messages, columns=['Channel', 'Date', 'Message'])\n",
    "    save_path = r'D:\\KAIM\\WEEK 7\\KAIM WEEK7\\telegram_scraped_data.csv'\n",
    "    df.to_csv(save_path, index=False)\n",
    "    print(f\"Scraping completed and data saved to '{save_path}'.\")\n",
    "\n",
    "\n",
    "# Main function to start the client and run scraping\n",
    "async def main():\n",
    "    await client.start()\n",
    "    await scrape_and_save_to_csv(channels)\n",
    "    await client.disconnect()\n",
    "\n",
    "# Run the main function\n",
    "asyncio.run(main())"
   ]
  }
 ],
 "metadata": {
  "kernelspec": {
   "display_name": ".ebcli-virtual-env",
   "language": "python",
   "name": "python3"
  },
  "language_info": {
   "codemirror_mode": {
    "name": "ipython",
    "version": 3
   },
   "file_extension": ".py",
   "mimetype": "text/x-python",
   "name": "python",
   "nbconvert_exporter": "python",
   "pygments_lexer": "ipython3",
   "version": "3.11.9"
  }
 },
 "nbformat": 4,
 "nbformat_minor": 2
}
